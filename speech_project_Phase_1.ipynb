{
 "cells": [
  {
   "cell_type": "code",
   "execution_count": null,
   "metadata": {},
   "outputs": [
    {
     "name": "stdout",
     "output_type": "stream",
     "text": [
      "Requirement already satisfied: yt_dlp in d:\\anaconda\\lib\\site-packages (2024.11.4)\n",
      "Requirement already satisfied: pydub in d:\\anaconda\\lib\\site-packages (0.25.1)\n",
      "Requirement already satisfied: openai-whisper in d:\\anaconda\\lib\\site-packages (20240930)\n",
      "Requirement already satisfied: torch in d:\\anaconda\\lib\\site-packages (2.5.1)\n",
      "Requirement already satisfied: numba in d:\\anaconda\\lib\\site-packages (from openai-whisper) (0.57.1)\n",
      "Requirement already satisfied: numpy in d:\\anaconda\\lib\\site-packages (from openai-whisper) (1.24.3)\n",
      "Requirement already satisfied: tqdm in d:\\anaconda\\lib\\site-packages (from openai-whisper) (4.65.0)\n",
      "Requirement already satisfied: more-itertools in d:\\anaconda\\lib\\site-packages (from openai-whisper) (8.12.0)\n",
      "Requirement already satisfied: tiktoken in d:\\anaconda\\lib\\site-packages (from openai-whisper) (0.8.0)\n",
      "Requirement already satisfied: filelock in d:\\anaconda\\lib\\site-packages (from torch) (3.9.0)\n",
      "Requirement already satisfied: typing-extensions>=4.8.0 in d:\\anaconda\\lib\\site-packages (from torch) (4.12.2)\n",
      "Requirement already satisfied: networkx in d:\\anaconda\\lib\\site-packages (from torch) (3.1)\n",
      "Requirement already satisfied: jinja2 in d:\\anaconda\\lib\\site-packages (from torch) (3.1.2)\n",
      "Requirement already satisfied: fsspec in d:\\anaconda\\lib\\site-packages (from torch) (2023.4.0)\n",
      "Requirement already satisfied: sympy==1.13.1 in d:\\anaconda\\lib\\site-packages (from torch) (1.13.1)\n",
      "Requirement already satisfied: mpmath<1.4,>=1.1.0 in d:\\anaconda\\lib\\site-packages (from sympy==1.13.1->torch) (1.3.0)\n",
      "Requirement already satisfied: MarkupSafe>=2.0 in d:\\anaconda\\lib\\site-packages (from jinja2->torch) (2.1.1)\n",
      "Requirement already satisfied: llvmlite<0.41,>=0.40.0dev0 in d:\\anaconda\\lib\\site-packages (from numba->openai-whisper) (0.40.0)\n",
      "Requirement already satisfied: regex>=2022.1.18 in d:\\anaconda\\lib\\site-packages (from tiktoken->openai-whisper) (2022.7.9)\n",
      "Requirement already satisfied: requests>=2.26.0 in d:\\anaconda\\lib\\site-packages (from tiktoken->openai-whisper) (2.31.0)\n",
      "Requirement already satisfied: colorama in d:\\anaconda\\lib\\site-packages (from tqdm->openai-whisper) (0.4.6)\n",
      "Requirement already satisfied: charset-normalizer<4,>=2 in d:\\anaconda\\lib\\site-packages (from requests>=2.26.0->tiktoken->openai-whisper) (2.0.4)\n",
      "Requirement already satisfied: idna<4,>=2.5 in d:\\anaconda\\lib\\site-packages (from requests>=2.26.0->tiktoken->openai-whisper) (3.4)\n",
      "Requirement already satisfied: urllib3<3,>=1.21.1 in d:\\anaconda\\lib\\site-packages (from requests>=2.26.0->tiktoken->openai-whisper) (1.26.16)\n",
      "Requirement already satisfied: certifi>=2017.4.17 in d:\\anaconda\\lib\\site-packages (from requests>=2.26.0->tiktoken->openai-whisper) (2023.11.17)\n",
      "Requirement already satisfied: youtube_transcript_api in d:\\anaconda\\lib\\site-packages (0.6.2)\n",
      "Requirement already satisfied: requests in d:\\anaconda\\lib\\site-packages (from youtube_transcript_api) (2.31.0)\n",
      "Requirement already satisfied: charset-normalizer<4,>=2 in d:\\anaconda\\lib\\site-packages (from requests->youtube_transcript_api) (2.0.4)\n",
      "Requirement already satisfied: idna<4,>=2.5 in d:\\anaconda\\lib\\site-packages (from requests->youtube_transcript_api) (3.4)\n",
      "Requirement already satisfied: urllib3<3,>=1.21.1 in d:\\anaconda\\lib\\site-packages (from requests->youtube_transcript_api) (1.26.16)\n",
      "Requirement already satisfied: certifi>=2017.4.17 in d:\\anaconda\\lib\\site-packages (from requests->youtube_transcript_api) (2023.11.17)\n"
     ]
    }
   ],
   "source": [
    "!pip install yt_dlp\n",
    "!pip install pydub\n",
    "!pip install openai-whisper torch\n",
    "!pip install youtube_transcript_api"
   ]
  },
  {
   "cell_type": "code",
   "execution_count": 1,
   "metadata": {},
   "outputs": [],
   "source": [
    "import yt_dlp\n",
    "import os\n",
    "from pydub import AudioSegment\n",
    "import whisper\n",
    "import json\n",
    "from youtube_transcript_api import YouTubeTranscriptApi, NoTranscriptFound, TranscriptsDisabled"
   ]
  },
  {
   "cell_type": "code",
   "execution_count": null,
   "metadata": {},
   "outputs": [],
   "source": [
    "def download_audio_from_playlist_with_arabic_transcription(playlist_url, output_path='downloads'):\n",
    "    \"\"\"\n",
    "    Downloads the audio of all videos in a YouTube playlist, renames each file sequentially (e.g., video1, video2),\n",
    "    and retrieves Arabic transcriptions if available, splitting them by time segments.\n",
    "    \"\"\"\n",
    "    output_path = os.path.abspath(output_path)\n",
    "    os.makedirs(output_path, exist_ok=True)\n",
    "\n",
    "    ydl_opts = {\n",
    "        'format': 'bestaudio/best',\n",
    "        'outtmpl': os.path.join(output_path, 'video%(playlist_index)d.%(ext)s'),  # Sequential naming\n",
    "        'quiet': True,\n",
    "        'noplaylist': False,\n",
    "        'playlist_items': '1:24',\n",
    "        'postprocessors': [{\n",
    "            'key': 'FFmpegExtractAudio',\n",
    "            'preferredcodec': 'wav',\n",
    "            'preferredquality': '50',\n",
    "        }],\n",
    "    }\n",
    "\n",
    "    with yt_dlp.YoutubeDL(ydl_opts) as ydl:\n",
    "        print(f\"Downloading audio from playlist: {playlist_url}\")\n",
    "        try:\n",
    "            playlist_info = ydl.extract_info(playlist_url, download=False)\n",
    "            if 'entries' not in playlist_info:\n",
    "                print(\"No entries found in the playlist.\")\n",
    "                return\n",
    "            \n",
    "            # Process each video in the playlist\n",
    "            for index, entry in enumerate(playlist_info['entries'], start=1):\n",
    "                video_id = entry.get('id')\n",
    "                video_title = f\"video{index}\"  # Simple naming\n",
    "                audio_path = os.path.join(output_path, f\"{video_title}.wav\")\n",
    "                print(f\"Processing {video_title}: {audio_path}\")\n",
    "\n",
    "                # Retrieve Arabic transcription\n",
    "                try:\n",
    "                    transcript = YouTubeTranscriptApi.get_transcript(video_id, languages=['ar'])\n",
    "                    \n",
    "                    # Split the audio and transcript\n",
    "                    split_audio_and_transcript(audio_path, transcript, video_title, output_path)\n",
    "                    \n",
    "                except (NoTranscriptFound, TranscriptsDisabled):\n",
    "                    print(f\"No Arabic transcription available for {video_title}\")\n",
    "        except Exception as e:\n",
    "            print(f\"Error downloading playlist: {e}\")"
   ]
  },
  {
   "cell_type": "code",
   "execution_count": 3,
   "metadata": {},
   "outputs": [],
   "source": [
    "def split_audio_and_transcript(audio_path, transcript, title, output_path, segment_duration=300):\n",
    "    \"\"\"\n",
    "    Splits the audio file and transcript into segments of a specified duration.\n",
    "    \"\"\"\n",
    "    audio = AudioSegment.from_wav(audio_path)\n",
    "    total_duration = len(audio) / 1000  # in seconds\n",
    "\n",
    "    segments_dir = os.path.join(output_path, f\"video_segments\")\n",
    "    os.makedirs(segments_dir, exist_ok=True)\n",
    "    \n",
    "    for i in range(0, int(total_duration), segment_duration):\n",
    "        start_time = i * 1000  # milliseconds\n",
    "        end_time = min((i + segment_duration) * 1000, len(audio))\n",
    "\n",
    "        audio_segment = audio[start_time:end_time]\n",
    "        segment_filename = f\"{title}_segment_{i // segment_duration + 1}.wav\"\n",
    "        segment_path = os.path.join(segments_dir, segment_filename)\n",
    "        audio_segment.export(segment_path, format=\"wav\")\n",
    "        \n",
    "        transcript_segment = [\n",
    "            entry['text'] for entry in transcript\n",
    "            if start_time / 1000 <= entry['start'] < end_time / 1000\n",
    "        ]\n",
    "        \n",
    "        transcript_filename = f\"{title}_segment_{i // segment_duration + 1}.txt\"\n",
    "        transcript_path = os.path.join(segments_dir, transcript_filename)\n",
    "        with open(transcript_path, 'w', encoding='utf-8') as f:\n",
    "            f.write(\"\\n\".join(transcript_segment))\n",
    "        \n",
    "        print(f\"Saved audio segment: {segment_path}\")\n",
    "        print(f\"Saved transcript segment: {transcript_path}\")\n"
   ]
  },
  {
   "cell_type": "code",
   "execution_count": null,
   "metadata": {},
   "outputs": [],
   "source": [
    "playlist_url = \"https://www.youtube.com/playlist?list=PLK6R01zBa3vJKurhwVvRhjQxpC60jrSO3\"\n",
    "download_audio_from_playlist_with_arabic_transcription(playlist_url)"
   ]
  }
 ],
 "metadata": {
  "kernelspec": {
   "display_name": "base",
   "language": "python",
   "name": "python3"
  },
  "language_info": {
   "codemirror_mode": {
    "name": "ipython",
    "version": 3
   },
   "file_extension": ".py",
   "mimetype": "text/x-python",
   "name": "python",
   "nbconvert_exporter": "python",
   "pygments_lexer": "ipython3",
   "version": "3.11.5"
  }
 },
 "nbformat": 4,
 "nbformat_minor": 2
}
